{
 "cells": [
  {
   "cell_type": "code",
   "execution_count": 10,
   "metadata": {},
   "outputs": [],
   "source": [
    "import numpy as np\n",
    "import pandas as pd\n",
    "\n",
    "import matplotlib.pyplot as plt\n",
    "import seaborn as sns\n",
    "sns.set_style('darkgrid')\n",
    "\n",
    "#for converting MTM geo location to normal lat and long\n",
    "from pyproj import Proj, transform\n",
    "\n",
    "import gmplot\n",
    "import gmaps\n",
    "\n",
    "# For improved table display in the notebook\n",
    "from IPython.display import display"
   ]
  },
  {
   "cell_type": "markdown",
   "metadata": {},
   "source": [
    "## Read in Watermain Failue Data"
   ]
  },
  {
   "cell_type": "code",
   "execution_count": 29,
   "metadata": {},
   "outputs": [],
   "source": [
    "df = pd.read_csv('WatermainBreaks.csv')"
   ]
  },
  {
   "cell_type": "code",
   "execution_count": 3,
   "metadata": {},
   "outputs": [
    {
     "data": {
      "text/html": [
       "<div>\n",
       "<style scoped>\n",
       "    .dataframe tbody tr th:only-of-type {\n",
       "        vertical-align: middle;\n",
       "    }\n",
       "\n",
       "    .dataframe tbody tr th {\n",
       "        vertical-align: top;\n",
       "    }\n",
       "\n",
       "    .dataframe thead th {\n",
       "        text-align: right;\n",
       "    }\n",
       "</style>\n",
       "<table border=\"1\" class=\"dataframe\">\n",
       "  <thead>\n",
       "    <tr style=\"text-align: right;\">\n",
       "      <th></th>\n",
       "      <th>BREAK DATE</th>\n",
       "      <th>BREAK YEAR</th>\n",
       "      <th>X COORD</th>\n",
       "      <th>Y COORD</th>\n",
       "    </tr>\n",
       "  </thead>\n",
       "  <tbody>\n",
       "    <tr>\n",
       "      <th>0</th>\n",
       "      <td>1/1/1990</td>\n",
       "      <td>1990</td>\n",
       "      <td>301316.434</td>\n",
       "      <td>4829245.578</td>\n",
       "    </tr>\n",
       "    <tr>\n",
       "      <th>1</th>\n",
       "      <td>1/1/1990</td>\n",
       "      <td>1990</td>\n",
       "      <td>326711.060</td>\n",
       "      <td>4846900.024</td>\n",
       "    </tr>\n",
       "    <tr>\n",
       "      <th>2</th>\n",
       "      <td>1/1/1990</td>\n",
       "      <td>1990</td>\n",
       "      <td>307098.866</td>\n",
       "      <td>4841152.120</td>\n",
       "    </tr>\n",
       "    <tr>\n",
       "      <th>3</th>\n",
       "      <td>1/1/1990</td>\n",
       "      <td>1990</td>\n",
       "      <td>306976.247</td>\n",
       "      <td>4842116.883</td>\n",
       "    </tr>\n",
       "    <tr>\n",
       "      <th>4</th>\n",
       "      <td>1/1/1990</td>\n",
       "      <td>1990</td>\n",
       "      <td>326543.178</td>\n",
       "      <td>4847968.844</td>\n",
       "    </tr>\n",
       "  </tbody>\n",
       "</table>\n",
       "</div>"
      ],
      "text/plain": [
       "  BREAK DATE  BREAK YEAR     X COORD      Y COORD\n",
       "0   1/1/1990        1990  301316.434  4829245.578\n",
       "1   1/1/1990        1990  326711.060  4846900.024\n",
       "2   1/1/1990        1990  307098.866  4841152.120\n",
       "3   1/1/1990        1990  306976.247  4842116.883\n",
       "4   1/1/1990        1990  326543.178  4847968.844"
      ]
     },
     "execution_count": 3,
     "metadata": {},
     "output_type": "execute_result"
    }
   ],
   "source": [
    "df.head()"
   ]
  },
  {
   "cell_type": "markdown",
   "metadata": {},
   "source": [
    "## Explore Time Features"
   ]
  },
  {
   "cell_type": "code",
   "execution_count": 30,
   "metadata": {},
   "outputs": [],
   "source": [
    "#convert to datetime object\n",
    "df['BREAK DATE'] = pd.to_datetime(df['BREAK DATE'])"
   ]
  },
  {
   "cell_type": "code",
   "execution_count": 31,
   "metadata": {},
   "outputs": [],
   "source": [
    "#Add datetime features\n",
    "mapper = {0:'Monday',1:'Tuesday',2:'Wednesday',3:'Thursday',4:'Friday',5:'Saturday',6:'Sunday'}\n",
    "\n",
    "\n",
    "df['Month'] = df['BREAK DATE'].apply(lambda x: x.month)\n",
    "df['Day'] = df['BREAK DATE'].apply(lambda x: x.day)\n",
    "df['Day of Week'] =  df['BREAK DATE'].apply(lambda x: x.dayofweek).map(mapper)"
   ]
  },
  {
   "cell_type": "code",
   "execution_count": 26,
   "metadata": {},
   "outputs": [
    {
     "data": {
      "text/html": [
       "<div>\n",
       "<style scoped>\n",
       "    .dataframe tbody tr th:only-of-type {\n",
       "        vertical-align: middle;\n",
       "    }\n",
       "\n",
       "    .dataframe tbody tr th {\n",
       "        vertical-align: top;\n",
       "    }\n",
       "\n",
       "    .dataframe thead th {\n",
       "        text-align: right;\n",
       "    }\n",
       "</style>\n",
       "<table border=\"1\" class=\"dataframe\">\n",
       "  <thead>\n",
       "    <tr style=\"text-align: right;\">\n",
       "      <th></th>\n",
       "      <th>BREAK DATE</th>\n",
       "      <th>BREAK YEAR</th>\n",
       "      <th>X COORD</th>\n",
       "      <th>Y COORD</th>\n",
       "      <th>Month</th>\n",
       "      <th>Day</th>\n",
       "      <th>Day of Week</th>\n",
       "    </tr>\n",
       "  </thead>\n",
       "  <tbody>\n",
       "    <tr>\n",
       "      <th>0</th>\n",
       "      <td>1990-01-01</td>\n",
       "      <td>1990</td>\n",
       "      <td>301316.434</td>\n",
       "      <td>4829245.578</td>\n",
       "      <td>1</td>\n",
       "      <td>1</td>\n",
       "      <td>Monday</td>\n",
       "    </tr>\n",
       "    <tr>\n",
       "      <th>1</th>\n",
       "      <td>1990-01-01</td>\n",
       "      <td>1990</td>\n",
       "      <td>326711.060</td>\n",
       "      <td>4846900.024</td>\n",
       "      <td>1</td>\n",
       "      <td>1</td>\n",
       "      <td>Monday</td>\n",
       "    </tr>\n",
       "    <tr>\n",
       "      <th>2</th>\n",
       "      <td>1990-01-01</td>\n",
       "      <td>1990</td>\n",
       "      <td>307098.866</td>\n",
       "      <td>4841152.120</td>\n",
       "      <td>1</td>\n",
       "      <td>1</td>\n",
       "      <td>Monday</td>\n",
       "    </tr>\n",
       "    <tr>\n",
       "      <th>3</th>\n",
       "      <td>1990-01-01</td>\n",
       "      <td>1990</td>\n",
       "      <td>306976.247</td>\n",
       "      <td>4842116.883</td>\n",
       "      <td>1</td>\n",
       "      <td>1</td>\n",
       "      <td>Monday</td>\n",
       "    </tr>\n",
       "    <tr>\n",
       "      <th>4</th>\n",
       "      <td>1990-01-01</td>\n",
       "      <td>1990</td>\n",
       "      <td>326543.178</td>\n",
       "      <td>4847968.844</td>\n",
       "      <td>1</td>\n",
       "      <td>1</td>\n",
       "      <td>Monday</td>\n",
       "    </tr>\n",
       "  </tbody>\n",
       "</table>\n",
       "</div>"
      ],
      "text/plain": [
       "  BREAK DATE  BREAK YEAR     X COORD      Y COORD  Month  Day Day of Week\n",
       "0 1990-01-01        1990  301316.434  4829245.578      1    1      Monday\n",
       "1 1990-01-01        1990  326711.060  4846900.024      1    1      Monday\n",
       "2 1990-01-01        1990  307098.866  4841152.120      1    1      Monday\n",
       "3 1990-01-01        1990  306976.247  4842116.883      1    1      Monday\n",
       "4 1990-01-01        1990  326543.178  4847968.844      1    1      Monday"
      ]
     },
     "execution_count": 26,
     "metadata": {},
     "output_type": "execute_result"
    }
   ],
   "source": [
    "df.head()"
   ]
  },
  {
   "cell_type": "code",
   "execution_count": 128,
   "metadata": {},
   "outputs": [
    {
     "data": {
      "text/plain": [
       "Text(0.5,1,'Water Main Break by Month (1990-2016)')"
      ]
     },
     "execution_count": 128,
     "metadata": {},
     "output_type": "execute_result"
    },
    {
     "data": {
      "image/png": "[encoded data removed]",
      "text/plain": [
       "<matplotlib.figure.Figure at 0x23947009208>"
      ]
     },
     "metadata": {},
     "output_type": "display_data"
    }
   ],
   "source": [
    "#Breaks by Month\n",
    "byMonth = df.groupby(by='Month',axis=0).count()/df['BREAK YEAR'].nunique()\n",
    "\n",
    "plt.figure(figsize=(10,5))\n",
    "sns.barplot(x = byMonth.index,  y='BREAK YEAR', data=byMonth, color = '#3B5998')\n",
    "plt.ylabel('# of Occurences / Month/ Year')\n",
    "plt.title('Water Main Break by Month (1990-2016)')"
   ]
  },
  {
   "cell_type": "markdown",
   "metadata": {},
   "source": [
    "- Suggests seasonality or weather correlation"
   ]
  },
  {
   "cell_type": "code",
   "execution_count": 130,
   "metadata": {},
   "outputs": [
    {
     "data": {
      "text/plain": [
       "Text(0.5,1,'Water Main Break by Weekday (1990-2016)')"
      ]
     },
     "execution_count": 130,
     "metadata": {},
     "output_type": "execute_result"
    },
    {
     "data": {
      "image/png": "[encoded data removed]",
      "text/plain": [
       "<matplotlib.figure.Figure at 0x23944d3bd68>"
      ]
     },
     "metadata": {},
     "output_type": "display_data"
    }
   ],
   "source": [
    "byDayofweek = df.groupby(by='Day of Week',axis=0).count()/df['BREAK YEAR'].nunique()\n",
    "\n",
    "plt.figure(figsize=(10,5))\n",
    "sns.barplot(x = byDayofweek.index,  y='BREAK YEAR', data=byDayofweek, color = '#3B5998')\n",
    "plt.ylabel('# of Occurences / Weekday / Year')\n",
    "plt.title('Water Main Break by Weekday (1990-2016)')"
   ]
  },
  {
   "cell_type": "markdown",
   "metadata": {},
   "source": [
    "- Suggest begining of week hotspots for breaks, I hate mondays"
   ]
  },
  {
   "cell_type": "code",
   "execution_count": 32,
   "metadata": {},
   "outputs": [],
   "source": [
    "#Explore last year\n",
    "df_2016 = df[df['BREAK YEAR'] == 2016]"
   ]
  },
  {
   "cell_type": "code",
   "execution_count": 126,
   "metadata": {},
   "outputs": [
    {
     "data": {
      "text/plain": [
       "Text(0.5,1,'Water Main Break by Month (2016)')"
      ]
     },
     "execution_count": 126,
     "metadata": {},
     "output_type": "execute_result"
    },
    {
     "data": {
      "image/png": "[encoded data removed]",
      "text/plain": [
       "<matplotlib.figure.Figure at 0x239452e1828>"
      ]
     },
     "metadata": {},
     "output_type": "display_data"
    }
   ],
   "source": [
    "#Breaks by Month\n",
    "byMonth = df_2016.groupby(by='Month',axis=0).count()/df['BREAK YEAR'].nunique()\n",
    "\n",
    "plt.figure(figsize=(10,5))\n",
    "sns.barplot(x = byMonth.index,  y='BREAK YEAR', data=byMonth, color = '#3B5998')\n",
    "plt.ylabel('# of Occurences / Month/ Year')\n",
    "plt.title('Water Main Break by Month (2016)')"
   ]
  },
  {
   "cell_type": "code",
   "execution_count": 127,
   "metadata": {},
   "outputs": [
    {
     "data": {
      "text/plain": [
       "Text(0.5,1,'Water Main Break by Weekday (2016)')"
      ]
     },
     "execution_count": 127,
     "metadata": {},
     "output_type": "execute_result"
    },
    {
     "data": {
      "image/png": "[encoded data removed]",
      "text/plain": [
       "<matplotlib.figure.Figure at 0x23946f44898>"
      ]
     },
     "metadata": {},
     "output_type": "display_data"
    }
   ],
   "source": [
    "byDayofweek = df_2016.groupby(by='Day of Week',axis=0).count()/df['BREAK YEAR'].nunique()\n",
    "\n",
    "plt.figure(figsize=(10,5))\n",
    "\n",
    "sns.barplot(x = byDayofweek.index,  y='BREAK YEAR', data=byDayofweek, color = '#3B5998')\n",
    "plt.ylabel('# of Occurences / Weekday / Year')\n",
    "plt.title('Water Main Break by Weekday (2016)')"
   ]
  },
  {
   "cell_type": "markdown",
   "metadata": {},
   "source": [
    "## Explore Geographical Features (Only 2016)"
   ]
  },
  {
   "cell_type": "code",
   "execution_count": 5,
   "metadata": {},
   "outputs": [],
   "source": [
    "#MTM to Lat/Long\n",
    "#http://www.noqcks.io/notes/2017/04/29/toronto-geocoding-mtm-to-wsg84/\n",
    "\n",
    "def MTMtoWGS84(df):\n",
    "    \n",
    "    \n",
    "    inProj = Proj(init='epsg:2019')\n",
    "    outProj = Proj(init='epsg:4326')\n",
    "\n",
    "    x1 = df['X COORD']\n",
    "    y1 = df['Y COORD']\n",
    "    \n",
    "    x2,y2 = transform(inProj,outProj,x1,y1)\n",
    "    \n",
    "    df['Lat'] = y2\n",
    "    df['Long'] = x2\n",
    "    \n",
    "    return df"
   ]
  },
  {
   "cell_type": "code",
   "execution_count": 6,
   "metadata": {},
   "outputs": [
    {
     "data": {
      "text/html": [
       "<div>\n",
       "<style scoped>\n",
       "    .dataframe tbody tr th:only-of-type {\n",
       "        vertical-align: middle;\n",
       "    }\n",
       "\n",
       "    .dataframe tbody tr th {\n",
       "        vertical-align: top;\n",
       "    }\n",
       "\n",
       "    .dataframe thead th {\n",
       "        text-align: right;\n",
       "    }\n",
       "</style>\n",
       "<table border=\"1\" class=\"dataframe\">\n",
       "  <thead>\n",
       "    <tr style=\"text-align: right;\">\n",
       "      <th></th>\n",
       "      <th>BREAK DATE</th>\n",
       "      <th>BREAK YEAR</th>\n",
       "      <th>X COORD</th>\n",
       "      <th>Y COORD</th>\n",
       "      <th>Lat</th>\n",
       "      <th>Long</th>\n",
       "    </tr>\n",
       "  </thead>\n",
       "  <tbody>\n",
       "    <tr>\n",
       "      <th>34582</th>\n",
       "      <td>1/2/2016</td>\n",
       "      <td>2016</td>\n",
       "      <td>312165.112</td>\n",
       "      <td>4848233.259</td>\n",
       "      <td>43.775967</td>\n",
       "      <td>-79.408510</td>\n",
       "    </tr>\n",
       "    <tr>\n",
       "      <th>34583</th>\n",
       "      <td>1/3/2016</td>\n",
       "      <td>2016</td>\n",
       "      <td>297675.325</td>\n",
       "      <td>4838998.379</td>\n",
       "      <td>43.692844</td>\n",
       "      <td>-79.588381</td>\n",
       "    </tr>\n",
       "    <tr>\n",
       "      <th>34584</th>\n",
       "      <td>1/3/2016</td>\n",
       "      <td>2016</td>\n",
       "      <td>296964.031</td>\n",
       "      <td>4844108.396</td>\n",
       "      <td>43.738833</td>\n",
       "      <td>-79.597279</td>\n",
       "    </tr>\n",
       "    <tr>\n",
       "      <th>34585</th>\n",
       "      <td>1/3/2016</td>\n",
       "      <td>2016</td>\n",
       "      <td>322201.163</td>\n",
       "      <td>4850645.062</td>\n",
       "      <td>43.797509</td>\n",
       "      <td>-79.283763</td>\n",
       "    </tr>\n",
       "    <tr>\n",
       "      <th>34586</th>\n",
       "      <td>1/4/2016</td>\n",
       "      <td>2016</td>\n",
       "      <td>300400.406</td>\n",
       "      <td>4834610.102</td>\n",
       "      <td>43.653364</td>\n",
       "      <td>-79.554541</td>\n",
       "    </tr>\n",
       "  </tbody>\n",
       "</table>\n",
       "</div>"
      ],
      "text/plain": [
       "      BREAK DATE  BREAK YEAR     X COORD      Y COORD        Lat       Long\n",
       "34582   1/2/2016        2016  312165.112  4848233.259  43.775967 -79.408510\n",
       "34583   1/3/2016        2016  297675.325  4838998.379  43.692844 -79.588381\n",
       "34584   1/3/2016        2016  296964.031  4844108.396  43.738833 -79.597279\n",
       "34585   1/3/2016        2016  322201.163  4850645.062  43.797509 -79.283763\n",
       "34586   1/4/2016        2016  300400.406  4834610.102  43.653364 -79.554541"
      ]
     },
     "execution_count": 6,
     "metadata": {},
     "output_type": "execute_result"
    }
   ],
   "source": [
    "df_2016 = df_2016.apply(MTMtoWGS84, axis=1)\n",
    "df_2016.head()"
   ]
  },
  {
   "cell_type": "code",
   "execution_count": 8,
   "metadata": {},
   "outputs": [],
   "source": [
    "lat = df_2016['Lat']\n",
    "long = df_2016['Long']\n",
    "\n",
    "locations = list(zip(lat.values,long.values))"
   ]
  },
  {
   "cell_type": "code",
   "execution_count": 11,
   "metadata": {},
   "outputs": [
    {
     "data": {
      "application/vnd.jupyter.widget-view+json": {
       "model_id": "91966ac749a94836bad7ee55f20ddd8c",
       "version_major": 2,
       "version_minor": 0
      },
      "text/html": [
       "<p>Failed to display Jupyter Widget of type <code>Figure</code>.</p>\n",
       "<p>\n",
       "  If you're reading this message in the Jupyter Notebook or JupyterLab Notebook, it may mean\n",
       "  that the widgets JavaScript is still loading. If this message persists, it\n",
       "  likely means that the widgets JavaScript library is either not installed or\n",
       "  not enabled. See the <a href=\"https://ipywidgets.readthedocs.io/en/stable/user_install.html\">Jupyter\n",
       "  Widgets Documentation</a> for setup instructions.\n",
       "</p>\n",
       "<p>\n",
       "  If you're reading this message in another frontend (for example, a static\n",
       "  rendering on GitHub or <a href=\"https://nbviewer.jupyter.org/\">NBViewer</a>),\n",
       "  it may mean that your frontend doesn't currently support widgets.\n",
       "</p>\n"
      ],
      "text/plain": [
       "Figure(layout=FigureLayout(height='420px'))"
      ]
     },
     "metadata": {},
     "output_type": "display_data"
    }
   ],
   "source": [
    "fig = gmaps.figure()\n",
    "fig.add_layer(gmaps.heatmap_layer(locations))\n",
    "fig"
   ]
  },
  {
   "cell_type": "markdown",
   "metadata": {},
   "source": [
    "## Explore External Datasets and Correlations"
   ]
  },
  {
   "cell_type": "markdown",
   "metadata": {},
   "source": [
    "Hypothesis\n",
    "\n",
    "- Weather Data\n",
    "- Consumption\n",
    "- Demographic features (income per area, population etc.)"
   ]
  },
  {
   "cell_type": "markdown",
   "metadata": {},
   "source": [
    "### Explore Weather"
   ]
  },
  {
   "cell_type": "code",
   "execution_count": 19,
   "metadata": {},
   "outputs": [],
   "source": [
    "#Weather\n",
    "df_weather = pd.read_csv('StatsCan Weather Data Station 31688 2016-2016')"
   ]
  },
  {
   "cell_type": "code",
   "execution_count": 20,
   "metadata": {},
   "outputs": [],
   "source": [
    "df_weather['Date/Time'] = pd.to_datetime(df_weather['Date/Time'])\n",
    "\n",
    "df_weather.set_index('Date/Time', inplace = True)"
   ]
  },
  {
   "cell_type": "code",
   "execution_count": 21,
   "metadata": {},
   "outputs": [],
   "source": [
    "df_weather_daily = df_weather.resample('D').mean()"
   ]
  },
  {
   "cell_type": "code",
   "execution_count": 23,
   "metadata": {},
   "outputs": [],
   "source": [
    "df_weather_daily_cleaned = df_weather_daily[['Temp (°C)','Rel Hum (%)','Stn Press (kPa)','Dew Point Temp (°C)']]"
   ]
  },
  {
   "cell_type": "code",
   "execution_count": 25,
   "metadata": {},
   "outputs": [],
   "source": [
    "df_weather_daily_cleaned.reset_index(inplace=True)"
   ]
  },
  {
   "cell_type": "code",
   "execution_count": 26,
   "metadata": {},
   "outputs": [
    {
     "data": {
      "text/html": [
       "<div>\n",
       "<style scoped>\n",
       "    .dataframe tbody tr th:only-of-type {\n",
       "        vertical-align: middle;\n",
       "    }\n",
       "\n",
       "    .dataframe tbody tr th {\n",
       "        vertical-align: top;\n",
       "    }\n",
       "\n",
       "    .dataframe thead th {\n",
       "        text-align: right;\n",
       "    }\n",
       "</style>\n",
       "<table border=\"1\" class=\"dataframe\">\n",
       "  <thead>\n",
       "    <tr style=\"text-align: right;\">\n",
       "      <th></th>\n",
       "      <th>Date/Time</th>\n",
       "      <th>Temp (°C)</th>\n",
       "      <th>Rel Hum (%)</th>\n",
       "      <th>Stn Press (kPa)</th>\n",
       "      <th>Dew Point Temp (°C)</th>\n",
       "    </tr>\n",
       "  </thead>\n",
       "  <tbody>\n",
       "    <tr>\n",
       "      <th>0</th>\n",
       "      <td>2016-01-01</td>\n",
       "      <td>-0.916667</td>\n",
       "      <td>73.250000</td>\n",
       "      <td>100.197917</td>\n",
       "      <td>-5.137500</td>\n",
       "    </tr>\n",
       "    <tr>\n",
       "      <th>1</th>\n",
       "      <td>2016-01-02</td>\n",
       "      <td>-0.675000</td>\n",
       "      <td>72.583333</td>\n",
       "      <td>99.937500</td>\n",
       "      <td>-4.991667</td>\n",
       "    </tr>\n",
       "    <tr>\n",
       "      <th>2</th>\n",
       "      <td>2016-01-03</td>\n",
       "      <td>-1.175000</td>\n",
       "      <td>70.166667</td>\n",
       "      <td>99.680417</td>\n",
       "      <td>-5.920833</td>\n",
       "    </tr>\n",
       "    <tr>\n",
       "      <th>3</th>\n",
       "      <td>2016-01-04</td>\n",
       "      <td>-11.933333</td>\n",
       "      <td>57.416667</td>\n",
       "      <td>101.498333</td>\n",
       "      <td>-18.733333</td>\n",
       "    </tr>\n",
       "    <tr>\n",
       "      <th>4</th>\n",
       "      <td>2016-01-05</td>\n",
       "      <td>-7.391304</td>\n",
       "      <td>64.217391</td>\n",
       "      <td>102.147826</td>\n",
       "      <td>-13.082609</td>\n",
       "    </tr>\n",
       "  </tbody>\n",
       "</table>\n",
       "</div>"
      ],
      "text/plain": [
       "   Date/Time  Temp (°C)  Rel Hum (%)  Stn Press (kPa)  Dew Point Temp (°C)\n",
       "0 2016-01-01  -0.916667    73.250000       100.197917            -5.137500\n",
       "1 2016-01-02  -0.675000    72.583333        99.937500            -4.991667\n",
       "2 2016-01-03  -1.175000    70.166667        99.680417            -5.920833\n",
       "3 2016-01-04 -11.933333    57.416667       101.498333           -18.733333\n",
       "4 2016-01-05  -7.391304    64.217391       102.147826           -13.082609"
      ]
     },
     "execution_count": 26,
     "metadata": {},
     "output_type": "execute_result"
    }
   ],
   "source": [
    "df_weather_daily_cleaned.head()"
   ]
  },
  {
   "cell_type": "code",
   "execution_count": 43,
   "metadata": {},
   "outputs": [],
   "source": [
    "df_2016_mergeprep = df_2016.rename(mapper={'BREAK DATE':'Date/Time'},axis=1)\n",
    "df_2016_mergeprep = df_2016_mergeprep.groupby('Date/Time').count()['BREAK YEAR'].reset_index()"
   ]
  },
  {
   "cell_type": "code",
   "execution_count": 59,
   "metadata": {},
   "outputs": [],
   "source": [
    "merge = df_weather_daily_cleaned.merge(df_2016_mergeprep,on='Date/Time',how='left')\n",
    "merge = merge.rename(mapper={'BREAK YEAR':'Number of Failures'},axis=1)"
   ]
  },
  {
   "cell_type": "code",
   "execution_count": 60,
   "metadata": {},
   "outputs": [],
   "source": [
    "merge.fillna(value=0,inplace=True)"
   ]
  },
  {
   "cell_type": "code",
   "execution_count": null,
   "metadata": {},
   "outputs": [],
   "source": [
    "weatherbreakcorr = merge.corr()\n",
    "print(weatherbreakcorr)"
   ]
  },
  {
   "cell_type": "code",
   "execution_count": 124,
   "metadata": {},
   "outputs": [
    {
     "data": {
      "text/plain": [
       "<matplotlib.axes._subplots.AxesSubplot at 0x23946c277f0>"
      ]
     },
     "execution_count": 124,
     "metadata": {},
     "output_type": "execute_result"
    },
    {
     "data": {
      "image/png": "[encoded data removed]",
      "text/plain": [
       "<matplotlib.figure.Figure at 0x23944e21240>"
      ]
     },
     "metadata": {},
     "output_type": "display_data"
    }
   ],
   "source": [
    "plt.figure(figsize=(10,5))\n",
    "sns.heatmap(weatherbreakcorr)"
   ]
  },
  {
   "cell_type": "code",
   "execution_count": 122,
   "metadata": {},
   "outputs": [
    {
     "data": {
      "image/png": "[encoded data removed]",
      "text/plain": [
       "<matplotlib.figure.Figure at 0x239467fceb8>"
      ]
     },
     "metadata": {},
     "output_type": "display_data"
    }
   ],
   "source": [
    "# Create some mock data\n",
    "data1 = merge['Temp (°C)'].values\n",
    "data2 = merge['Number of Failures'].values\n",
    "t = merge['Date/Time'].values\n",
    "\n",
    "fig, ax1 = plt.subplots()\n",
    "fig.set_size_inches(10, 5, forward=True)\n",
    "\n",
    "color = 'tab:red'\n",
    "ax1.set_xlabel('Year')\n",
    "ax1.set_ylabel('Consumption')\n",
    "ax1.plot(t, data1, color=color)\n",
    "ax1.tick_params(axis='y')\n",
    "\n",
    "ax2 = ax1.twinx()  # instantiate a second axes that shares the same x-axis\n",
    "\n",
    "color = 'tab:blue'\n",
    "ax2.set_ylabel('# of Occurences')  # we already handled the x-label with ax1\n",
    "ax2.bar(t, data2, color=color)\n",
    "ax2.tick_params(axis='y')\n",
    "\n",
    "plt.title('Water Main Failures vs. Consumption')\n",
    "fig.tight_layout() \n",
    "\n"
   ]
  },
  {
   "cell_type": "markdown",
   "metadata": {},
   "source": [
    "- Temperature neg corr with pip failure (i.e more breaks in winter time)\n",
    "- Slight positive correlations with relative humidity and bar pressure"
   ]
  },
  {
   "cell_type": "markdown",
   "metadata": {},
   "source": [
    "### Explore Consumption"
   ]
  },
  {
   "cell_type": "code",
   "execution_count": 77,
   "metadata": {},
   "outputs": [],
   "source": [
    "data = np.array([[2010,318381748.58],\n",
    "                 [2011,320080300.48],\n",
    "                 [2012, 306497042.00],\n",
    "                 [2013, 327579236.76],\n",
    "                 [2014, 319702744.29 ],\n",
    "                 [2015,307105017.78],\n",
    "                ])\n",
    "\n",
    "consump = pd.DataFrame(data,columns=['Date','Total Consumption'])\n",
    "consump['Date'] = consump['Date'].astype(int)"
   ]
  },
  {
   "cell_type": "code",
   "execution_count": 78,
   "metadata": {},
   "outputs": [
    {
     "data": {
      "text/html": [
       "<div>\n",
       "<style scoped>\n",
       "    .dataframe tbody tr th:only-of-type {\n",
       "        vertical-align: middle;\n",
       "    }\n",
       "\n",
       "    .dataframe tbody tr th {\n",
       "        vertical-align: top;\n",
       "    }\n",
       "\n",
       "    .dataframe thead th {\n",
       "        text-align: right;\n",
       "    }\n",
       "</style>\n",
       "<table border=\"1\" class=\"dataframe\">\n",
       "  <thead>\n",
       "    <tr style=\"text-align: right;\">\n",
       "      <th></th>\n",
       "      <th>Date</th>\n",
       "      <th>Total Consumption</th>\n",
       "    </tr>\n",
       "  </thead>\n",
       "  <tbody>\n",
       "    <tr>\n",
       "      <th>0</th>\n",
       "      <td>2010</td>\n",
       "      <td>3.183817e+08</td>\n",
       "    </tr>\n",
       "    <tr>\n",
       "      <th>1</th>\n",
       "      <td>2011</td>\n",
       "      <td>3.200803e+08</td>\n",
       "    </tr>\n",
       "    <tr>\n",
       "      <th>2</th>\n",
       "      <td>2012</td>\n",
       "      <td>3.064970e+08</td>\n",
       "    </tr>\n",
       "    <tr>\n",
       "      <th>3</th>\n",
       "      <td>2013</td>\n",
       "      <td>3.275792e+08</td>\n",
       "    </tr>\n",
       "    <tr>\n",
       "      <th>4</th>\n",
       "      <td>2014</td>\n",
       "      <td>3.197027e+08</td>\n",
       "    </tr>\n",
       "    <tr>\n",
       "      <th>5</th>\n",
       "      <td>2015</td>\n",
       "      <td>3.071050e+08</td>\n",
       "    </tr>\n",
       "  </tbody>\n",
       "</table>\n",
       "</div>"
      ],
      "text/plain": [
       "   Date  Total Consumption\n",
       "0  2010       3.183817e+08\n",
       "1  2011       3.200803e+08\n",
       "2  2012       3.064970e+08\n",
       "3  2013       3.275792e+08\n",
       "4  2014       3.197027e+08\n",
       "5  2015       3.071050e+08"
      ]
     },
     "execution_count": 78,
     "metadata": {},
     "output_type": "execute_result"
    }
   ],
   "source": [
    "consump"
   ]
  },
  {
   "cell_type": "code",
   "execution_count": 89,
   "metadata": {},
   "outputs": [],
   "source": [
    "consump['# of Failures'] = df.groupby('BREAK YEAR').count()['BREAK DATE'][20:-1].values"
   ]
  },
  {
   "cell_type": "code",
   "execution_count": 90,
   "metadata": {},
   "outputs": [
    {
     "data": {
      "text/html": [
       "<div>\n",
       "<style scoped>\n",
       "    .dataframe tbody tr th:only-of-type {\n",
       "        vertical-align: middle;\n",
       "    }\n",
       "\n",
       "    .dataframe tbody tr th {\n",
       "        vertical-align: top;\n",
       "    }\n",
       "\n",
       "    .dataframe thead th {\n",
       "        text-align: right;\n",
       "    }\n",
       "</style>\n",
       "<table border=\"1\" class=\"dataframe\">\n",
       "  <thead>\n",
       "    <tr style=\"text-align: right;\">\n",
       "      <th></th>\n",
       "      <th>Date</th>\n",
       "      <th>Total Consumption</th>\n",
       "      <th># of Failures</th>\n",
       "    </tr>\n",
       "  </thead>\n",
       "  <tbody>\n",
       "    <tr>\n",
       "      <th>0</th>\n",
       "      <td>2010</td>\n",
       "      <td>3.183817e+08</td>\n",
       "      <td>940</td>\n",
       "    </tr>\n",
       "    <tr>\n",
       "      <th>1</th>\n",
       "      <td>2011</td>\n",
       "      <td>3.200803e+08</td>\n",
       "      <td>1080</td>\n",
       "    </tr>\n",
       "    <tr>\n",
       "      <th>2</th>\n",
       "      <td>2012</td>\n",
       "      <td>3.064970e+08</td>\n",
       "      <td>769</td>\n",
       "    </tr>\n",
       "    <tr>\n",
       "      <th>3</th>\n",
       "      <td>2013</td>\n",
       "      <td>3.275792e+08</td>\n",
       "      <td>1193</td>\n",
       "    </tr>\n",
       "    <tr>\n",
       "      <th>4</th>\n",
       "      <td>2014</td>\n",
       "      <td>3.197027e+08</td>\n",
       "      <td>1271</td>\n",
       "    </tr>\n",
       "    <tr>\n",
       "      <th>5</th>\n",
       "      <td>2015</td>\n",
       "      <td>3.071050e+08</td>\n",
       "      <td>1353</td>\n",
       "    </tr>\n",
       "  </tbody>\n",
       "</table>\n",
       "</div>"
      ],
      "text/plain": [
       "   Date  Total Consumption  # of Failures\n",
       "0  2010       3.183817e+08            940\n",
       "1  2011       3.200803e+08           1080\n",
       "2  2012       3.064970e+08            769\n",
       "3  2013       3.275792e+08           1193\n",
       "4  2014       3.197027e+08           1271\n",
       "5  2015       3.071050e+08           1353"
      ]
     },
     "execution_count": 90,
     "metadata": {},
     "output_type": "execute_result"
    }
   ],
   "source": [
    "consump"
   ]
  },
  {
   "cell_type": "code",
   "execution_count": 91,
   "metadata": {},
   "outputs": [
    {
     "data": {
      "text/html": [
       "<div>\n",
       "<style scoped>\n",
       "    .dataframe tbody tr th:only-of-type {\n",
       "        vertical-align: middle;\n",
       "    }\n",
       "\n",
       "    .dataframe tbody tr th {\n",
       "        vertical-align: top;\n",
       "    }\n",
       "\n",
       "    .dataframe thead th {\n",
       "        text-align: right;\n",
       "    }\n",
       "</style>\n",
       "<table border=\"1\" class=\"dataframe\">\n",
       "  <thead>\n",
       "    <tr style=\"text-align: right;\">\n",
       "      <th></th>\n",
       "      <th>Total Consumption</th>\n",
       "      <th># of Failures</th>\n",
       "    </tr>\n",
       "  </thead>\n",
       "  <tbody>\n",
       "    <tr>\n",
       "      <th>Total Consumption</th>\n",
       "      <td>1.000000</td>\n",
       "      <td>0.238883</td>\n",
       "    </tr>\n",
       "    <tr>\n",
       "      <th># of Failures</th>\n",
       "      <td>0.238883</td>\n",
       "      <td>1.000000</td>\n",
       "    </tr>\n",
       "  </tbody>\n",
       "</table>\n",
       "</div>"
      ],
      "text/plain": [
       "                   Total Consumption  # of Failures\n",
       "Total Consumption           1.000000       0.238883\n",
       "# of Failures               0.238883       1.000000"
      ]
     },
     "execution_count": 91,
     "metadata": {},
     "output_type": "execute_result"
    }
   ],
   "source": [
    "consump[['Total Consumption','# of Failures']].corr()"
   ]
  },
  {
   "cell_type": "code",
   "execution_count": 123,
   "metadata": {},
   "outputs": [
    {
     "data": {
      "image/png": "[encoded data removed]",
      "text/plain": [
       "<matplotlib.figure.Figure at 0x23944d72dd8>"
      ]
     },
     "metadata": {},
     "output_type": "display_data"
    }
   ],
   "source": [
    "# Create some mock data\n",
    "data1 = consump['Total Consumption'].values\n",
    "data2 = consump['# of Failures'].values\n",
    "t = consump['Date'].values\n",
    "\n",
    "fig, ax1 = plt.subplots()\n",
    "fig.set_size_inches(10, 5, forward=True)\n",
    "\n",
    "\n",
    "color = 'tab:red'\n",
    "ax1.set_xlabel('Year')\n",
    "ax1.set_ylabel('Consumption')\n",
    "ax1.plot(t, data1, color=color)\n",
    "ax1.tick_params(axis='y')\n",
    "\n",
    "ax2 = ax1.twinx()  # instantiate a second axes that shares the same x-axis\n",
    "\n",
    "color = 'tab:blue'\n",
    "ax2.set_ylabel('# of Occurences')  # we already handled the x-label with ax1\n",
    "ax2.plot(t, data2, color=color)\n",
    "ax2.tick_params(axis='y')\n",
    "\n",
    "plt.title('Water Main Failures vs. Consumption')\n",
    "fig.tight_layout() "
   ]
  },
  {
   "cell_type": "markdown",
   "metadata": {},
   "source": [
    "- Slight correlation between consumption and failures"
   ]
  },
  {
   "cell_type": "code",
   "execution_count": null,
   "metadata": {},
   "outputs": [],
   "source": []
  }
 ],
 "metadata": {
  "kernelspec": {
   "display_name": "Python 3",
   "language": "python",
   "name": "python3"
  },
  "language_info": {
   "codemirror_mode": {
    "name": "ipython",
    "version": 3
   },
   "file_extension": ".py",
   "mimetype": "text/x-python",
   "name": "python",
   "nbconvert_exporter": "python",
   "pygments_lexer": "ipython3",
   "version": "3.6.4"
  }
 },
 "nbformat": 4,
 "nbformat_minor": 2
}
